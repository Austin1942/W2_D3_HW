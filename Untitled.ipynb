{
 "cells": [
  {
   "cell_type": "code",
   "execution_count": 19,
   "id": "db6541df",
   "metadata": {},
   "outputs": [
    {
     "name": "stdout",
     "output_type": "stream",
     "text": [
      "Hey! Welcome to doinG Whiteboard problems. Get prepared to fiGure out a problem on the fly!\n",
      "Hey! Welcome to doinG Whiteboard problems. Get prepared to fiGure out a problem on the fly!\n",
      "Hey! Welcome to doinG Whiteboard problems. Get prepared to fiGure out a problem on the fly!\n"
     ]
    }
   ],
   "source": [
    "#Make a Function that takes a string as input and returns the adjusted string.\n",
    "#Given a string, after every y, add an ! and after every s, add a period and make every w and g capital.\n",
    "s=\"Hey welcome to doing whiteboard problems get prepared to figure out a problem on the fly\"\n",
    "#output= Hey! Welcome to doinG Whiteboard problems. Get prepared to fiGure out a problem on the fly!\n",
    "\n",
    "\n",
    "\n",
    "def my_string(wordz):\n",
    "    new_saying = \"\"\n",
    "    for sample in wordz:\n",
    "        if sample.lower()== \"y\":\n",
    "            new_saying += sample+\"!\"\n",
    "        elif sample.lower()== \"s\":\n",
    "            new_saying += sample+\".\"\n",
    "        elif sample.lower()== \"w\" or sample.lower()==\"g\":\n",
    "            new_saying += sample.upper()\n",
    "        else:\n",
    "            new_saying+=sample\n",
    "    return new_saying\n",
    "\n",
    "print(my_string(s))\n",
    "\n",
    "\n",
    "def fix_string_replace(s):\n",
    "    return s.replace('y',\"y!\").replace('s','s.').replace('w','W').replace('g','G')\n",
    "\n",
    "print(fix_string_replace(s))\n",
    "\n",
    "def fix_string_lc(s):\n",
    "    return \"\".join([letter+\"!\" if letter.lower()=='y' else letter+\".\" if letter.lower()=='s' else letter.upper() if letter.lower()=='w' or letter.lower()=='g' else letter for letter in s])\n",
    "\n",
    "print(fix_string_lc(s))\n",
    "\n",
    "\n",
    "\n",
    "\n",
    "\n",
    "\n",
    "\n",
    "\n",
    "\n",
    "\n"
   ]
  }
 ],
 "metadata": {
  "kernelspec": {
   "display_name": "Python 3",
   "language": "python",
   "name": "python3"
  },
  "language_info": {
   "codemirror_mode": {
    "name": "ipython",
    "version": 3
   },
   "file_extension": ".py",
   "mimetype": "text/x-python",
   "name": "python",
   "nbconvert_exporter": "python",
   "pygments_lexer": "ipython3",
   "version": "3.8.8"
  }
 },
 "nbformat": 4,
 "nbformat_minor": 5
}
