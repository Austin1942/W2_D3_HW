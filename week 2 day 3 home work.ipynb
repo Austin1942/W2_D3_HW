{
 "cells": [
  {
   "cell_type": "code",
   "execution_count": null,
   "id": "5cac33cc",
   "metadata": {},
   "outputs": [],
   "source": []
  },
  {
   "cell_type": "code",
   "execution_count": 10,
   "id": "d0fdf2f3",
   "metadata": {},
   "outputs": [
    {
     "name": "stdout",
     "output_type": "stream",
     "text": [
      "what would you like to do: ADD, REMOVE, VIEW CART, OR QUIT? view cart\n",
      "{'lemon': '30', 'sponge': '4', 'skittles': '1'}\n",
      "Here is your list. Would you like to go back? Yes or No? no\n"
     ]
    },
    {
     "data": {
      "text/plain": [
       "{'lemon': '30', 'sponge': '4', 'skittles': '1'}"
      ]
     },
     "execution_count": 10,
     "metadata": {},
     "output_type": "execute_result"
    }
   ],
   "source": [
    "from IPython.display import clear_output\n",
    "\n",
    "def shoping_list():\n",
    "    shop_list={}\n",
    "    while True:\n",
    "        clear_output()\n",
    "        response= input(\"what would you like to do: ADD, REMOVE, VIEW CART, OR QUIT? \").strip()\n",
    "        \n",
    "        if response.lower() == 'quit':\n",
    "            print(shop_list)\n",
    "            break\n",
    "        \n",
    "        elif response.lower() == 'add':\n",
    "            print(shop_list)\n",
    "            item=input(\"What do you want to add? \").strip()\n",
    "            quantity=input(\"How many would you like? \").strip()\n",
    "            shop_list[item]=quantity    \n",
    "        \n",
    "        elif response.lower() == 'remove':\n",
    "            print(shop_list)\n",
    "            response=input(\"what would you like to do: REMOVE ITEM or CHANGE QUANTITY? \").strip()\n",
    "            \n",
    "            if response.lower() == 'remove item':\n",
    "                print(shop_list)\n",
    "                r_item=input(\"what item would you like to remove? \").strip()\n",
    "                del shop_list[r_item]\n",
    "           \n",
    "            elif response.lower() == 'change quantity':\n",
    "                print(shop_list)\n",
    "                r_item=input(\"What item's quanity would you like to change? \").strip()\n",
    "                c_item=input(\"What would you like to change it to? \").strip()\n",
    "                shop_list[r_item] = c_item\n",
    "        elif response.lower() == 'view cart':\n",
    "            print(shop_list)\n",
    "            talk_back= input(\"Here is your list. Would you like to go back? Yes or No? \").strip()\n",
    "                \n",
    "            if talk_back.lower() == 'no':\n",
    "                break\n",
    "        \n",
    "        \n",
    "    return shop_list\n",
    "shoping_list()\n",
    "# Ask the user four bits of input: Do you want to : Show/Add/Delete or Quit?"
   ]
  },
  {
   "cell_type": "code",
   "execution_count": null,
   "id": "99ddabef",
   "metadata": {},
   "outputs": [],
   "source": [
    "import my_mod2\n",
    "\n"
   ]
  }
 ],
 "metadata": {
  "kernelspec": {
   "display_name": "Python 3",
   "language": "python",
   "name": "python3"
  },
  "language_info": {
   "codemirror_mode": {
    "name": "ipython",
    "version": 3
   },
   "file_extension": ".py",
   "mimetype": "text/x-python",
   "name": "python",
   "nbconvert_exporter": "python",
   "pygments_lexer": "ipython3",
   "version": "3.8.8"
  }
 },
 "nbformat": 4,
 "nbformat_minor": 5
}
